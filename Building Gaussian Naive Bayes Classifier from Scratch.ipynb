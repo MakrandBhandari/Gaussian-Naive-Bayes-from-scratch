{
 "cells": [
  {
   "cell_type": "code",
   "execution_count": 1,
   "metadata": {},
   "outputs": [],
   "source": [
    "# Importing required libraries\n",
    "import numpy as np\n",
    "import pandas as pd\n",
    "import matplotlib.pyplot as plt\n",
    "import seaborn as sns"
   ]
  },
  {
   "cell_type": "code",
   "execution_count": 2,
   "metadata": {},
   "outputs": [],
   "source": [
    "# Importing the dataset creation library\n",
    "from sklearn.datasets import make_blobs"
   ]
  },
  {
   "cell_type": "code",
   "execution_count": 3,
   "metadata": {},
   "outputs": [],
   "source": [
    "# Creating dataset with 100 observations and 2 features and a target variable with binary classes 0 and 1\n",
    "x,y = make_blobs(n_samples=100, n_features=2,centers= 2, random_state= 1)"
   ]
  },
  {
   "cell_type": "code",
   "execution_count": 4,
   "metadata": {},
   "outputs": [
    {
     "data": {
      "text/html": [
       "<div>\n",
       "<style scoped>\n",
       "    .dataframe tbody tr th:only-of-type {\n",
       "        vertical-align: middle;\n",
       "    }\n",
       "\n",
       "    .dataframe tbody tr th {\n",
       "        vertical-align: top;\n",
       "    }\n",
       "\n",
       "    .dataframe thead th {\n",
       "        text-align: right;\n",
       "    }\n",
       "</style>\n",
       "<table border=\"1\" class=\"dataframe\">\n",
       "  <thead>\n",
       "    <tr style=\"text-align: right;\">\n",
       "      <th></th>\n",
       "      <th>feature1</th>\n",
       "      <th>feature2</th>\n",
       "      <th>target</th>\n",
       "    </tr>\n",
       "  </thead>\n",
       "  <tbody>\n",
       "    <tr>\n",
       "      <th>0</th>\n",
       "      <td>-0.794152</td>\n",
       "      <td>2.104951</td>\n",
       "      <td>0</td>\n",
       "    </tr>\n",
       "    <tr>\n",
       "      <th>1</th>\n",
       "      <td>-9.151552</td>\n",
       "      <td>-4.812864</td>\n",
       "      <td>1</td>\n",
       "    </tr>\n",
       "    <tr>\n",
       "      <th>2</th>\n",
       "      <td>-3.103674</td>\n",
       "      <td>3.902024</td>\n",
       "      <td>0</td>\n",
       "    </tr>\n",
       "    <tr>\n",
       "      <th>3</th>\n",
       "      <td>-1.429465</td>\n",
       "      <td>5.168501</td>\n",
       "      <td>0</td>\n",
       "    </tr>\n",
       "    <tr>\n",
       "      <th>4</th>\n",
       "      <td>-7.469387</td>\n",
       "      <td>-4.201983</td>\n",
       "      <td>1</td>\n",
       "    </tr>\n",
       "    <tr>\n",
       "      <th>...</th>\n",
       "      <td>...</td>\n",
       "      <td>...</td>\n",
       "      <td>...</td>\n",
       "    </tr>\n",
       "    <tr>\n",
       "      <th>95</th>\n",
       "      <td>-8.958888</td>\n",
       "      <td>-1.766369</td>\n",
       "      <td>1</td>\n",
       "    </tr>\n",
       "    <tr>\n",
       "      <th>96</th>\n",
       "      <td>-9.980303</td>\n",
       "      <td>-5.075367</td>\n",
       "      <td>1</td>\n",
       "    </tr>\n",
       "    <tr>\n",
       "      <th>97</th>\n",
       "      <td>-1.373973</td>\n",
       "      <td>5.291631</td>\n",
       "      <td>0</td>\n",
       "    </tr>\n",
       "    <tr>\n",
       "      <th>98</th>\n",
       "      <td>-9.186761</td>\n",
       "      <td>-2.908906</td>\n",
       "      <td>1</td>\n",
       "    </tr>\n",
       "    <tr>\n",
       "      <th>99</th>\n",
       "      <td>0.085252</td>\n",
       "      <td>3.645283</td>\n",
       "      <td>0</td>\n",
       "    </tr>\n",
       "  </tbody>\n",
       "</table>\n",
       "<p>100 rows × 3 columns</p>\n",
       "</div>"
      ],
      "text/plain": [
       "    feature1  feature2  target\n",
       "0  -0.794152  2.104951       0\n",
       "1  -9.151552 -4.812864       1\n",
       "2  -3.103674  3.902024       0\n",
       "3  -1.429465  5.168501       0\n",
       "4  -7.469387 -4.201983       1\n",
       "..       ...       ...     ...\n",
       "95 -8.958888 -1.766369       1\n",
       "96 -9.980303 -5.075367       1\n",
       "97 -1.373973  5.291631       0\n",
       "98 -9.186761 -2.908906       1\n",
       "99  0.085252  3.645283       0\n",
       "\n",
       "[100 rows x 3 columns]"
      ]
     },
     "execution_count": 4,
     "metadata": {},
     "output_type": "execute_result"
    }
   ],
   "source": [
    "# Converting arrays of data to dataframe\n",
    "df = pd.concat([pd.DataFrame(x, columns = ['feature1','feature2']), pd.DataFrame(y, columns = ['target'])], axis = 1)\n",
    "df"
   ]
  },
  {
   "cell_type": "code",
   "execution_count": 5,
   "metadata": {},
   "outputs": [
    {
     "name": "stdout",
     "output_type": "stream",
     "text": [
      "<class 'pandas.core.frame.DataFrame'>\n",
      "RangeIndex: 100 entries, 0 to 99\n",
      "Data columns (total 3 columns):\n",
      " #   Column    Non-Null Count  Dtype  \n",
      "---  ------    --------------  -----  \n",
      " 0   feature1  100 non-null    float64\n",
      " 1   feature2  100 non-null    float64\n",
      " 2   target    100 non-null    int32  \n",
      "dtypes: float64(2), int32(1)\n",
      "memory usage: 2.1 KB\n"
     ]
    }
   ],
   "source": [
    "# Information on dataset\n",
    "df.info()"
   ]
  },
  {
   "cell_type": "code",
   "execution_count": 6,
   "metadata": {},
   "outputs": [
    {
     "data": {
      "text/html": [
       "<div>\n",
       "<style scoped>\n",
       "    .dataframe tbody tr th:only-of-type {\n",
       "        vertical-align: middle;\n",
       "    }\n",
       "\n",
       "    .dataframe tbody tr th {\n",
       "        vertical-align: top;\n",
       "    }\n",
       "\n",
       "    .dataframe thead th {\n",
       "        text-align: right;\n",
       "    }\n",
       "</style>\n",
       "<table border=\"1\" class=\"dataframe\">\n",
       "  <thead>\n",
       "    <tr style=\"text-align: right;\">\n",
       "      <th></th>\n",
       "      <th>feature1</th>\n",
       "      <th>feature2</th>\n",
       "      <th>target</th>\n",
       "    </tr>\n",
       "  </thead>\n",
       "  <tbody>\n",
       "    <tr>\n",
       "      <th>count</th>\n",
       "      <td>100.000000</td>\n",
       "      <td>100.000000</td>\n",
       "      <td>100.000000</td>\n",
       "    </tr>\n",
       "    <tr>\n",
       "      <th>mean</th>\n",
       "      <td>-5.622233</td>\n",
       "      <td>0.227650</td>\n",
       "      <td>0.500000</td>\n",
       "    </tr>\n",
       "    <tr>\n",
       "      <th>std</th>\n",
       "      <td>4.166358</td>\n",
       "      <td>4.325661</td>\n",
       "      <td>0.502519</td>\n",
       "    </tr>\n",
       "    <tr>\n",
       "      <th>min</th>\n",
       "      <td>-11.855694</td>\n",
       "      <td>-6.388186</td>\n",
       "      <td>0.000000</td>\n",
       "    </tr>\n",
       "    <tr>\n",
       "      <th>25%</th>\n",
       "      <td>-9.565816</td>\n",
       "      <td>-3.910269</td>\n",
       "      <td>0.000000</td>\n",
       "    </tr>\n",
       "    <tr>\n",
       "      <th>50%</th>\n",
       "      <td>-5.286530</td>\n",
       "      <td>0.169291</td>\n",
       "      <td>0.500000</td>\n",
       "    </tr>\n",
       "    <tr>\n",
       "      <th>75%</th>\n",
       "      <td>-1.591414</td>\n",
       "      <td>4.458523</td>\n",
       "      <td>1.000000</td>\n",
       "    </tr>\n",
       "    <tr>\n",
       "      <th>max</th>\n",
       "      <td>0.526016</td>\n",
       "      <td>6.506745</td>\n",
       "      <td>1.000000</td>\n",
       "    </tr>\n",
       "  </tbody>\n",
       "</table>\n",
       "</div>"
      ],
      "text/plain": [
       "         feature1    feature2      target\n",
       "count  100.000000  100.000000  100.000000\n",
       "mean    -5.622233    0.227650    0.500000\n",
       "std      4.166358    4.325661    0.502519\n",
       "min    -11.855694   -6.388186    0.000000\n",
       "25%     -9.565816   -3.910269    0.000000\n",
       "50%     -5.286530    0.169291    0.500000\n",
       "75%     -1.591414    4.458523    1.000000\n",
       "max      0.526016    6.506745    1.000000"
      ]
     },
     "execution_count": 6,
     "metadata": {},
     "output_type": "execute_result"
    }
   ],
   "source": [
    "# Descriptive Statistics\n",
    "df.describe()"
   ]
  },
  {
   "cell_type": "code",
   "execution_count": 7,
   "metadata": {},
   "outputs": [
    {
     "data": {
      "text/plain": [
       "feature1    0\n",
       "feature2    0\n",
       "target      0\n",
       "dtype: int64"
      ]
     },
     "execution_count": 7,
     "metadata": {},
     "output_type": "execute_result"
    }
   ],
   "source": [
    "# Checking null values\n",
    "df.isnull().sum()"
   ]
  },
  {
   "cell_type": "markdown",
   "metadata": {},
   "source": [
    "No null values present in our dataset"
   ]
  },
  {
   "cell_type": "code",
   "execution_count": 8,
   "metadata": {},
   "outputs": [
    {
     "data": {
      "text/plain": [
       "0"
      ]
     },
     "execution_count": 8,
     "metadata": {},
     "output_type": "execute_result"
    }
   ],
   "source": [
    "# Duplicate value check\n",
    "df.duplicated().sum()"
   ]
  },
  {
   "cell_type": "markdown",
   "metadata": {},
   "source": [
    "No duplicate values present in the dataset"
   ]
  },
  {
   "cell_type": "code",
   "execution_count": 9,
   "metadata": {},
   "outputs": [
    {
     "data": {
      "text/plain": [
       "1    50\n",
       "0    50\n",
       "Name: target, dtype: int64"
      ]
     },
     "execution_count": 9,
     "metadata": {},
     "output_type": "execute_result"
    }
   ],
   "source": [
    "# Studying the target variable\n",
    "df['target'].value_counts()"
   ]
  },
  {
   "cell_type": "markdown",
   "metadata": {},
   "source": [
    "This dummy dataset is perfectly balanced with 50 0s and 50 1s"
   ]
  },
  {
   "cell_type": "code",
   "execution_count": 10,
   "metadata": {},
   "outputs": [
    {
     "data": {
      "image/png": "[encoded data removed]",
      "text/plain": [
       "<Figure size 432x288 with 1 Axes>"
      ]
     },
     "metadata": {
      "needs_background": "light"
     },
     "output_type": "display_data"
    }
   ],
   "source": [
    "# Visualizing class balance of dataset - using count plot\n",
    "sns.countplot(x = 'target', data = df)\n",
    "plt.show()"
   ]
  },
  {
   "cell_type": "markdown",
   "metadata": {},
   "source": [
    "###### Correlation check\n",
    "- As Naive Bayes classifier works on its Naive assumption that each pair of features are conditionally independent and \n",
    "  each feature has equal effect on the target, so we will have correlation check to remove highly correlated columns\n",
    "- Mostly dataset do not hold true the Naive assumption, but still Naive Bayes classifier works fine on them.\n",
    "  However, it is better to remove highly correlated columns to approximate the Naive assumption and enhance the model \n",
    "  performance.\n",
    "- Here, we have only two features, which is pretty less so, it is obvious we won't remove the highly correlated column.\n",
    "  But for the EDA purpose, we will produce the correlation matrix."
   ]
  },
  {
   "cell_type": "code",
   "execution_count": 11,
   "metadata": {},
   "outputs": [
    {
     "data": {
      "text/html": [
       "<div>\n",
       "<style scoped>\n",
       "    .dataframe tbody tr th:only-of-type {\n",
       "        vertical-align: middle;\n",
       "    }\n",
       "\n",
       "    .dataframe tbody tr th {\n",
       "        vertical-align: top;\n",
       "    }\n",
       "\n",
       "    .dataframe thead th {\n",
       "        text-align: right;\n",
       "    }\n",
       "</style>\n",
       "<table border=\"1\" class=\"dataframe\">\n",
       "  <thead>\n",
       "    <tr style=\"text-align: right;\">\n",
       "      <th></th>\n",
       "      <th>feature1</th>\n",
       "      <th>feature2</th>\n",
       "      <th>target</th>\n",
       "    </tr>\n",
       "  </thead>\n",
       "  <tbody>\n",
       "    <tr>\n",
       "      <th>feature1</th>\n",
       "      <td>1.000000</td>\n",
       "      <td>0.949145</td>\n",
       "      <td>-0.979127</td>\n",
       "    </tr>\n",
       "    <tr>\n",
       "      <th>feature2</th>\n",
       "      <td>0.949145</td>\n",
       "      <td>1.000000</td>\n",
       "      <td>-0.975616</td>\n",
       "    </tr>\n",
       "    <tr>\n",
       "      <th>target</th>\n",
       "      <td>-0.979127</td>\n",
       "      <td>-0.975616</td>\n",
       "      <td>1.000000</td>\n",
       "    </tr>\n",
       "  </tbody>\n",
       "</table>\n",
       "</div>"
      ],
      "text/plain": [
       "          feature1  feature2    target\n",
       "feature1  1.000000  0.949145 -0.979127\n",
       "feature2  0.949145  1.000000 -0.975616\n",
       "target   -0.979127 -0.975616  1.000000"
      ]
     },
     "execution_count": 11,
     "metadata": {},
     "output_type": "execute_result"
    }
   ],
   "source": [
    "# Correlation Matrix\n",
    "corr_mat = df.corr()\n",
    "corr_mat"
   ]
  },
  {
   "cell_type": "code",
   "execution_count": 12,
   "metadata": {},
   "outputs": [
    {
     "data": {
      "text/plain": [
       "Text(0.5, 1.0, 'Correlation Matrix')"
      ]
     },
     "execution_count": 12,
     "metadata": {},
     "output_type": "execute_result"
    },
    {
     "data": {
      "image/png": "[encoded data removed]",
      "text/plain": [
       "<Figure size 648x432 with 2 Axes>"
      ]
     },
     "metadata": {
      "needs_background": "light"
     },
     "output_type": "display_data"
    }
   ],
   "source": [
    "# Visualizing correlation matrix using heatmap\n",
    "f, ax = plt.subplots(figsize=(9, 6))\n",
    "sns.heatmap(corr_mat, annot=True, fmt=\".3f\", linewidths=.5, ax=ax, cmap = 'Blues')\n",
    "plt.title('Correlation Matrix')"
   ]
  },
  {
   "cell_type": "markdown",
   "metadata": {},
   "source": [
    "- Feature 1 and feature 2 are highly correlated.\n",
    "- Feature 1 and feature 2 have almost same correlation (-ve) with the target variable. However, this doesn't necessarily \n",
    "  say that increase in target is 'caused' due to decrease in feature 1 or feature 2. Correlation doesn't mean causation.\n",
    "- We won't drop any of the features as these are already less. Moreover, Naive Bayes works well even if there are highly \n",
    "  correlated features."
   ]
  },
  {
   "cell_type": "code",
   "execution_count": 13,
   "metadata": {},
   "outputs": [
    {
     "data": {
      "text/plain": [
       "dtype('float64')"
      ]
     },
     "execution_count": 13,
     "metadata": {},
     "output_type": "execute_result"
    }
   ],
   "source": [
    "df['feature1'].dtypes"
   ]
  },
  {
   "cell_type": "code",
   "execution_count": 14,
   "metadata": {},
   "outputs": [
    {
     "name": "stdout",
     "output_type": "stream",
     "text": [
      "Variance of feature1 = 17.36\n",
      "Variance of feature2 = 18.71\n"
     ]
    }
   ],
   "source": [
    "# Variance check- features having 0 or near to 0 variance have very less predictive power, i.e, whatever the target value be\n",
    "# it will have same feature value\n",
    "col = df.columns\n",
    "for i in range(len(col)):\n",
    "    if ((df[col[i]].dtypes == 'int64') or (df[col[i]].dtypes == 'float64')):\n",
    "        variance = round(df[col[i]].var(),2)\n",
    "        print(f'Variance of {col[i]} = {variance}')"
   ]
  },
  {
   "cell_type": "markdown",
   "metadata": {},
   "source": [
    "There are no zero variance columns"
   ]
  },
  {
   "cell_type": "markdown",
   "metadata": {},
   "source": [
    "###### Gaussian Naive Bayes Classifier is used for features which are continuous in nature and follow gaussian/ normal distribution\n",
    "- This dataset satisfies the condition of continuous feature values\n",
    "- But whether the continous feature values follow the gaussian distribution, that we have to check"
   ]
  },
  {
   "cell_type": "code",
   "execution_count": 15,
   "metadata": {},
   "outputs": [
    {
     "data": {
      "image/png": "[encoded data removed]",
      "text/plain": [
       "<Figure size 648x432 with 2 Axes>"
      ]
     },
     "metadata": {
      "needs_background": "light"
     },
     "output_type": "display_data"
    }
   ],
   "source": [
    "# Checking distribution of features\n",
    "plt.figure(figsize = (9,6))\n",
    "plt.subplot(1,2,1)\n",
    "sns.kdeplot(df['feature1'])\n",
    "plt.subplot(1,2,2)\n",
    "sns.kdeplot(df['feature2'])\n",
    "plt.tight_layout()\n",
    "plt.show()"
   ]
  },
  {
   "cell_type": "markdown",
   "metadata": {},
   "source": [
    "This doesn't look like normal distribution"
   ]
  },
  {
   "cell_type": "code",
   "execution_count": 16,
   "metadata": {},
   "outputs": [],
   "source": [
    "# Using Yeo Johnson transformation to convert features values to approximately normal distribution\n",
    "from scipy.stats import yeojohnson"
   ]
  },
  {
   "cell_type": "code",
   "execution_count": 17,
   "metadata": {},
   "outputs": [],
   "source": [
    "x1_yeo, lam1 = yeojohnson(df['feature1'])\n",
    "x2_yeo, lam2  = yeojohnson(df['feature2'])"
   ]
  },
  {
   "cell_type": "code",
   "execution_count": 18,
   "metadata": {},
   "outputs": [
    {
     "data": {
      "image/png": "[encoded data removed]",
      "text/plain": [
       "<Figure size 648x432 with 2 Axes>"
      ]
     },
     "metadata": {
      "needs_background": "light"
     },
     "output_type": "display_data"
    }
   ],
   "source": [
    "# Visualizing dist. to check the result\n",
    "plt.figure(figsize = (9,6))\n",
    "plt.subplot(1,2,1)\n",
    "sns.kdeplot(x1_yeo)\n",
    "plt.xlabel('feature1')\n",
    "plt.subplot(1,2,2)\n",
    "sns.kdeplot(x2_yeo)\n",
    "plt.xlabel('feature2')\n",
    "plt.suptitle('Yeo Johnson Transformation')\n",
    "plt.tight_layout()\n",
    "plt.show()"
   ]
  },
  {
   "cell_type": "markdown",
   "metadata": {},
   "source": [
    "There is not much improvement in getting approx. normal dist."
   ]
  },
  {
   "cell_type": "code",
   "execution_count": 19,
   "metadata": {},
   "outputs": [
    {
     "name": "stderr",
     "output_type": "stream",
     "text": [
      "C:\\ProgramData\\Anaconda3\\lib\\site-packages\\pandas\\core\\series.py:726: RuntimeWarning: invalid value encountered in log\n",
      "  result = getattr(ufunc, method)(*inputs, **kwargs)\n"
     ]
    }
   ],
   "source": [
    "# Let's try log transformation to get aprrox. normal dist. ( x -> log_e(x))\n",
    "x1_log = np.log(df['feature1'])\n",
    "x2_log = np.log(df['feature2'])"
   ]
  },
  {
   "cell_type": "code",
   "execution_count": 20,
   "metadata": {},
   "outputs": [
    {
     "data": {
      "image/png": "[encoded data removed]",
      "text/plain": [
       "<Figure size 648x432 with 2 Axes>"
      ]
     },
     "metadata": {
      "needs_background": "light"
     },
     "output_type": "display_data"
    }
   ],
   "source": [
    "# Visualizing dist. to check the result\n",
    "plt.figure(figsize = (9,6))\n",
    "plt.subplot(1,2,1)\n",
    "sns.kdeplot(x1_log)\n",
    "plt.xlabel('feature1')\n",
    "plt.subplot(1,2,2)\n",
    "sns.kdeplot(x2_log)\n",
    "plt.xlabel('feature2')\n",
    "plt.suptitle('Log Transformation')\n",
    "plt.tight_layout()\n",
    "plt.show()"
   ]
  },
  {
   "cell_type": "markdown",
   "metadata": {},
   "source": [
    "There is tremendous improvement in getting approx. normal distribution"
   ]
  },
  {
   "cell_type": "code",
   "execution_count": 21,
   "metadata": {},
   "outputs": [
    {
     "name": "stdout",
     "output_type": "stream",
     "text": [
      "No. of zeroes in feature 1 =  0\n",
      "No. of zeroes in feature 2 =  0\n"
     ]
    }
   ],
   "source": [
    "# Let's try reverse transformation to compare it with log transformation\n",
    "# But before that let's check if there are any zero values as reverse transformation won't be applicable then.\n",
    "count_1 = 0\n",
    "for i in df['feature1']:\n",
    "    if i == 0:\n",
    "        count_1 += 1\n",
    "print('No. of zeroes in feature 1 = ',count_1)\n",
    "\n",
    "count_2 = 0\n",
    "for i in df['feature2']:\n",
    "    if i == 0:\n",
    "        count_2 += 1\n",
    "print('No. of zeroes in feature 2 = ',count_2)"
   ]
  },
  {
   "cell_type": "markdown",
   "metadata": {},
   "source": [
    "No zero values are present in feature1 and feature2"
   ]
  },
  {
   "cell_type": "code",
   "execution_count": 22,
   "metadata": {},
   "outputs": [],
   "source": [
    "x1_reverse = 1/df['feature1']\n",
    "x2_reverse = 1/df['feature2']"
   ]
  },
  {
   "cell_type": "code",
   "execution_count": 23,
   "metadata": {},
   "outputs": [
    {
     "data": {
      "image/png": "[encoded data removed]",
      "text/plain": [
       "<Figure size 648x432 with 2 Axes>"
      ]
     },
     "metadata": {
      "needs_background": "light"
     },
     "output_type": "display_data"
    }
   ],
   "source": [
    "# Visualizing dist. to check the result\n",
    "plt.figure(figsize = (9,6))\n",
    "plt.subplot(1,2,1)\n",
    "sns.kdeplot(x1_reverse)\n",
    "plt.xlabel('feature1')\n",
    "plt.subplot(1,2,2)\n",
    "sns.kdeplot(x2_reverse)\n",
    "plt.xlabel('feature2')\n",
    "plt.suptitle('Reverse Transformation')\n",
    "plt.tight_layout()\n",
    "plt.show()"
   ]
  },
  {
   "cell_type": "markdown",
   "metadata": {},
   "source": [
    "- This transformation also doesn't approximate to normal distribution.\n",
    "- Hence, 'log transformation' looks best."
   ]
  },
  {
   "cell_type": "code",
   "execution_count": 24,
   "metadata": {},
   "outputs": [],
   "source": [
    "# Comparing skewness values of orginal feature values and log transformed features\n",
    "from scipy.stats import skew"
   ]
  },
  {
   "cell_type": "code",
   "execution_count": 25,
   "metadata": {},
   "outputs": [
    {
     "data": {
      "text/html": [
       "<div>\n",
       "<style scoped>\n",
       "    .dataframe tbody tr th:only-of-type {\n",
       "        vertical-align: middle;\n",
       "    }\n",
       "\n",
       "    .dataframe tbody tr th {\n",
       "        vertical-align: top;\n",
       "    }\n",
       "\n",
       "    .dataframe thead th {\n",
       "        text-align: right;\n",
       "    }\n",
       "</style>\n",
       "<table border=\"1\" class=\"dataframe\">\n",
       "  <thead>\n",
       "    <tr style=\"text-align: right;\">\n",
       "      <th></th>\n",
       "      <th>skewness of original features</th>\n",
       "      <th>skewness of log transformed features</th>\n",
       "    </tr>\n",
       "  </thead>\n",
       "  <tbody>\n",
       "    <tr>\n",
       "      <th>feature 1</th>\n",
       "      <td>-0.014158</td>\n",
       "      <td>NaN</td>\n",
       "    </tr>\n",
       "    <tr>\n",
       "      <th>feature 2</th>\n",
       "      <td>0.001527</td>\n",
       "      <td>NaN</td>\n",
       "    </tr>\n",
       "  </tbody>\n",
       "</table>\n",
       "</div>"
      ],
      "text/plain": [
       "           skewness of original features  skewness of log transformed features\n",
       "feature 1                      -0.014158                                   NaN\n",
       "feature 2                       0.001527                                   NaN"
      ]
     },
     "execution_count": 25,
     "metadata": {},
     "output_type": "execute_result"
    }
   ],
   "source": [
    "skew_x1 = skew(df['feature1'])\n",
    "skew_x2 = skew(df['feature2'])\n",
    "skew_x1_log = skew(x1_log)\n",
    "skew_x2_log = skew(x2_log)\n",
    "dic = {'skewness of original features' : [skew_x1,skew_x2], 'skewness of log transformed features' : [skew_x1_log, skew_x2_log]}\n",
    "pd.DataFrame(dic, index = ['feature 1', 'feature 2'])"
   ]
  },
  {
   "cell_type": "code",
   "execution_count": 26,
   "metadata": {},
   "outputs": [
    {
     "data": {
      "text/plain": [
       "0          NaN\n",
       "1          NaN\n",
       "2          NaN\n",
       "3          NaN\n",
       "4          NaN\n",
       "        ...   \n",
       "95         NaN\n",
       "96         NaN\n",
       "97         NaN\n",
       "98         NaN\n",
       "99   -2.462145\n",
       "Name: feature1, Length: 100, dtype: float64"
      ]
     },
     "execution_count": 26,
     "metadata": {},
     "output_type": "execute_result"
    }
   ],
   "source": [
    "x1_log"
   ]
  },
  {
   "cell_type": "code",
   "execution_count": 27,
   "metadata": {},
   "outputs": [
    {
     "data": {
      "text/plain": [
       "0     0.744292\n",
       "1          NaN\n",
       "2     1.361495\n",
       "3     1.642583\n",
       "4          NaN\n",
       "        ...   \n",
       "95         NaN\n",
       "96         NaN\n",
       "97    1.666127\n",
       "98         NaN\n",
       "99    1.293434\n",
       "Name: feature2, Length: 100, dtype: float64"
      ]
     },
     "execution_count": 27,
     "metadata": {},
     "output_type": "execute_result"
    }
   ],
   "source": [
    "x2_log"
   ]
  },
  {
   "cell_type": "markdown",
   "metadata": {},
   "source": [
    "- We can see that on log transformation many values have become NaN, so even, though we have got approx. normal dist. on log but values are becoming NaN and skewness is also NaN. \n",
    "- Also, if we look at the skewness values of original features, it is nearly 0 and we know that skewness of normal\n",
    "  distribution is 0 as it is symmetric about mean.\n",
    "- So, we will not consider any transformation and keep values as it is."
   ]
  },
  {
   "cell_type": "markdown",
   "metadata": {},
   "source": [
    "###### Assume continuous feature values to follow normal distribution"
   ]
  },
  {
   "cell_type": "markdown",
   "metadata": {},
   "source": [
    "###### Naive Bayes work on Bayes Theorem :-\n",
    "---------------------------------------  \n",
    "- P(h/d) = P(d/h) * P(h)/ P(d)\n",
    "\n",
    "- P(h/d) -> class conditional probability\n",
    "- P(d/h) -> liklihood probability\n",
    "- P(h) -> prior probability\n",
    "- P(d) -> prob. of evidence\n",
    "\n",
    "- For different class conditional probability, P(d) is constant\n",
    "- so, P(h/d) ~ P(d/h) * P(h)\n",
    "\n",
    "- P(d/h1) = P(d1/h1) * P(d2/h1) * P(d3/h1) *------ *P(h1)"
   ]
  },
  {
   "cell_type": "markdown",
   "metadata": {},
   "source": [
    "###### For Gaussian Naive Bayes having continuous feature d1 and classes h1 and h2\n",
    "- P(d1/h1) = pdf(Gaussian) = [1/sqrt(2*pi*sigma^2)]*e^(-(x-mu)^2/2*sigma^2), where, mu and sigma are mean and std. dev. for\n",
    "  d1 belonging to class h1\n",
    "- P(d1/h2) = pdf(Gaussian) = [1/sqrt(2*pi*sigma^2)]*e^(-(x-mu)^2/2*sigma^2), where, mu and sigma are mean and std. dev.       for d1 belonging to class h2"
   ]
  },
  {
   "cell_type": "code",
   "execution_count": 28,
   "metadata": {},
   "outputs": [],
   "source": [
    "# Importing normal distribution function for Gaussain Naive Bayes\n",
    "from scipy.stats import norm"
   ]
  },
  {
   "cell_type": "code",
   "execution_count": 29,
   "metadata": {},
   "outputs": [],
   "source": [
    "# Creating gaussian distribution function\n",
    "def gaussian_dist(x):\n",
    "    x = np.array(x)\n",
    "    x_mean = np.mean(x)\n",
    "    x_std = np.std(x)\n",
    "    dist = norm(x_mean,x_std)\n",
    "    return dist"
   ]
  },
  {
   "cell_type": "code",
   "execution_count": 30,
   "metadata": {},
   "outputs": [
    {
     "name": "stdout",
     "output_type": "stream",
     "text": [
      "Random Sequence =  [63  1 59 83 21 39 97 46 66 60 10 23 96  9 81 99 62 25 28 30 40 33  5 67\n",
      " 85 91 76 56 75 24 44 74 82 93 65 73 49 98 84 70 72 22 15 16 42 80 48 61\n",
      " 37 29 41  7 64  2 55 18 77 54 58 68 90 95 32 47 26 88  6 51 20 78 87 14\n",
      " 27 19 13 17  0 45  4 43 35 31 86 94 50 89 34  8 57 79 71 38 11 12 92 53\n",
      " 69 36  3 52]\n",
      "X_train =       feature1  feature2\n",
      "40  -9.717047 -4.026461\n",
      "33  -1.851395  3.518861\n",
      "5   -9.195851 -3.906781\n",
      "67 -11.270271 -3.639801\n",
      "85  -0.525790  3.306599\n",
      "..        ...       ...\n",
      "53 -10.398591 -3.129343\n",
      "69  -1.236066  4.483830\n",
      "36  -0.460642  4.591646\n",
      "3   -1.429465  5.168501\n",
      "52  -9.919891 -3.334968\n",
      "\n",
      "[80 rows x 2 columns]\n",
      "y_train =  40    1\n",
      "33    0\n",
      "5     1\n",
      "67    1\n",
      "85    0\n",
      "     ..\n",
      "53    1\n",
      "69    0\n",
      "36    0\n",
      "3     0\n",
      "52    1\n",
      "Name: target, Length: 80, dtype: int32\n",
      "X_test =       feature1  feature2\n",
      "63 -10.022329 -4.728510\n",
      "1   -9.151552 -4.812864\n",
      "59  -1.146630  4.108397\n",
      "83  -8.093054 -2.842292\n",
      "21 -10.263931 -3.920734\n",
      "39 -10.134157 -4.072403\n",
      "97  -1.373973  5.291631\n",
      "46  -0.757969  4.908984\n",
      "66  -2.413958  5.659358\n",
      "60  -1.472999  4.816542\n",
      "10 -10.036408 -5.569121\n",
      "23  -1.340521  4.157119\n",
      "96  -9.980303 -5.075367\n",
      "9   -1.171042  4.330918\n",
      "81 -11.196981 -3.090003\n",
      "99   0.085252  3.645283\n",
      "62  -9.494528 -2.660123\n",
      "25 -10.307829 -6.388186\n",
      "28  -0.197452  2.346349\n",
      "30  -1.927448  4.936845\n",
      "y_test =  63    1\n",
      "1     1\n",
      "59    0\n",
      "83    1\n",
      "21    1\n",
      "39    1\n",
      "97    0\n",
      "46    0\n",
      "66    0\n",
      "60    0\n",
      "10    1\n",
      "23    0\n",
      "96    1\n",
      "9     0\n",
      "81    1\n",
      "99    0\n",
      "62    1\n",
      "25    1\n",
      "28    0\n",
      "30    0\n",
      "Name: target, dtype: int32\n"
     ]
    }
   ],
   "source": [
    "# Generating Random Sequence from 0 to 99\n",
    "random_sequence = np.random.permutation(np.arange(0,100))\n",
    "print('Random Sequence = ',random_sequence)\n",
    "\n",
    "# Generating train set features (80%)\n",
    "x_train = df[['feature1','feature2']].iloc[random_sequence[20:101], :]\n",
    "print('X_train = ',x_train)\n",
    "\n",
    "# Generating train set target (80%)\n",
    "y_train = df['target'][random_sequence[20:101]]\n",
    "print('y_train = ',y_train)\n",
    "\n",
    "# Generating test set features (20%)\n",
    "x_test = df[['feature1','feature2']].iloc[random_sequence[0:20], :]\n",
    "print('X_test = ',x_test)\n",
    "\n",
    "# Generating test set target (20%)\n",
    "y_test = df['target'][random_sequence[0:20]]\n",
    "print('y_test = ',y_test)"
   ]
  },
  {
   "cell_type": "code",
   "execution_count": 31,
   "metadata": {},
   "outputs": [
    {
     "name": "stdout",
     "output_type": "stream",
     "text": [
      "     feature1  feature2  target\n",
      "40  -9.717047 -4.026461       1\n",
      "33  -1.851395  3.518861       0\n",
      "5   -9.195851 -3.906781       1\n",
      "67 -11.270271 -3.639801       1\n",
      "85  -0.525790  3.306599       0\n",
      "..        ...       ...     ...\n",
      "53 -10.398591 -3.129343       1\n",
      "69  -1.236066  4.483830       0\n",
      "36  -0.460642  4.591646       0\n",
      "3   -1.429465  5.168501       0\n",
      "52  -9.919891 -3.334968       1\n",
      "\n",
      "[80 rows x 3 columns]\n",
      "     feature1  feature2  target\n",
      "63 -10.022329 -4.728510       1\n",
      "1   -9.151552 -4.812864       1\n",
      "59  -1.146630  4.108397       0\n",
      "83  -8.093054 -2.842292       1\n",
      "21 -10.263931 -3.920734       1\n",
      "39 -10.134157 -4.072403       1\n",
      "97  -1.373973  5.291631       0\n",
      "46  -0.757969  4.908984       0\n",
      "66  -2.413958  5.659358       0\n",
      "60  -1.472999  4.816542       0\n",
      "10 -10.036408 -5.569121       1\n",
      "23  -1.340521  4.157119       0\n",
      "96  -9.980303 -5.075367       1\n",
      "9   -1.171042  4.330918       0\n",
      "81 -11.196981 -3.090003       1\n",
      "99   0.085252  3.645283       0\n",
      "62  -9.494528 -2.660123       1\n",
      "25 -10.307829 -6.388186       1\n",
      "28  -0.197452  2.346349       0\n",
      "30  -1.927448  4.936845       0\n"
     ]
    }
   ],
   "source": [
    "# Creating dataframe of traininng set\n",
    "df_train = pd.concat([pd.DataFrame(x_train),pd.DataFrame(y_train)], axis = 1)\n",
    "print(df_train)\n",
    "\n",
    "# Creating dataframe of test set\n",
    "df_test = pd.concat([pd.DataFrame(x_test),pd.DataFrame(y_test)], axis = 1)\n",
    "print(df_test)"
   ]
  },
  {
   "cell_type": "markdown",
   "metadata": {},
   "source": [
    "###### Training the model"
   ]
  },
  {
   "cell_type": "code",
   "execution_count": 32,
   "metadata": {},
   "outputs": [
    {
     "name": "stdout",
     "output_type": "stream",
     "text": [
      "Prior probability of class 0 =  0.5\n",
      "Prior probability of class 1 =  0.5\n"
     ]
    }
   ],
   "source": [
    "# Calculating prior probability - P(h)\n",
    "\n",
    "# Prior prob. of class 0\n",
    "p_y0 = len(df_train[df_train['target'] == 0])/len(df_train['target'])\n",
    "print('Prior probability of class 0 = ',p_y0)\n",
    "\n",
    "# Prior prob. of class 1\n",
    "p_y1 = len(df_train[df_train['target'] == 1])/len(df_train['target'])\n",
    "print('Prior probability of class 1 = ',p_y1)"
   ]
  },
  {
   "cell_type": "code",
   "execution_count": 33,
   "metadata": {},
   "outputs": [],
   "source": [
    "# Calculating liklihood probability - P(d/h)\n",
    "\n",
    "# Generating gaussian dist. for feature 1 belonging to class 0\n",
    "p_f1_y0 = gaussian_dist(df_train[df_train['target'] == 0]['feature1'])\n",
    "\n",
    "# Generating gaussian dist.for feature 1 belonging to class 1\n",
    "p_f1_y1 = gaussian_dist(df_train[df_train['target'] == 1]['feature1'])\n",
    "\n",
    "# Generating gaussian dist. for feature 2 belonging to class 0\n",
    "p_f2_y0 = gaussian_dist(df_train[df_train['target'] == 0]['feature2'])\n",
    "\n",
    "# Generating gaussian dist. for feature 2 belonging to class 1\n",
    "p_f2_y1 = gaussian_dist(df_train[df_train['target'] == 1]['feature2'])"
   ]
  },
  {
   "cell_type": "code",
   "execution_count": 34,
   "metadata": {},
   "outputs": [],
   "source": [
    "# Calculating class conditional probability - Defining it as a function\n",
    "\n",
    "def class_cond_prob(prior,liklihood_f1,liklihood_f2):\n",
    "    p_y_f = prior*liklihood_f1*liklihood_f2\n",
    "    return p_y_f"
   ]
  },
  {
   "cell_type": "code",
   "execution_count": 35,
   "metadata": {},
   "outputs": [
    {
     "data": {
      "text/plain": [
       "2"
      ]
     },
     "execution_count": 35,
     "metadata": {},
     "output_type": "execute_result"
    }
   ],
   "source": [
    "a = np.array([2,45.5,69999.578,7,888.907])\n",
    "np.argmax(a)"
   ]
  },
  {
   "cell_type": "code",
   "execution_count": 36,
   "metadata": {},
   "outputs": [],
   "source": [
    "# Predicting probabilities of test set features\n",
    "p_feat1_y0 = p_f1_y0.pdf(df_test.iloc[:,0]) # P(feature1 / class0)\n",
    "p_feat2_y0 = p_f2_y0.pdf(df_test.iloc[:,1]) # P(feature2 / class0)\n",
    "py0_feat1feat2 = np.round(class_cond_prob(p_y0,p_feat1_y0,p_feat2_y0),3) # P(class 0 /feature1,feature2)\n",
    "\n",
    "p_feat1_y1 = p_f1_y1.pdf(df_test.iloc[:,0]) # P(feature1 / class1)\n",
    "p_feat2_y1 = p_f2_y1.pdf(df_test.iloc[:,1]) # P(feature2 / class1)\n",
    "py1_feat1feat2 = np.round(class_cond_prob(p_y1,p_feat1_y1,p_feat2_y1),3) # P(class 1 /feature1,feature2)"
   ]
  },
  {
   "cell_type": "code",
   "execution_count": 37,
   "metadata": {},
   "outputs": [
    {
     "name": "stdout",
     "output_type": "stream",
     "text": [
      "[1, 1, 0, 1, 1, 1, 0, 0, 0, 0, 1, 0, 1, 0, 1, 0, 1, 1, 0, 0]\n"
     ]
    }
   ],
   "source": [
    "# Predicting classes of test set features\n",
    "y_pred = []\n",
    "for i0 , i1 in zip(py0_feat1feat2,py1_feat1feat2):\n",
    "    if i0 > i1:\n",
    "        y_pred.append(0)\n",
    "    if i0 < i1:\n",
    "        y_pred.append(1)\n",
    "print(y_pred)"
   ]
  },
  {
   "cell_type": "code",
   "execution_count": 38,
   "metadata": {},
   "outputs": [],
   "source": [
    "# Adding predicted classes in test data frame\n",
    "df_test.rename(columns = {'target' : 'actual class'}, inplace = True)\n",
    "df_test['predicted class'] = y_pred"
   ]
  },
  {
   "cell_type": "code",
   "execution_count": 39,
   "metadata": {},
   "outputs": [
    {
     "data": {
      "text/html": [
       "<div>\n",
       "<style scoped>\n",
       "    .dataframe tbody tr th:only-of-type {\n",
       "        vertical-align: middle;\n",
       "    }\n",
       "\n",
       "    .dataframe tbody tr th {\n",
       "        vertical-align: top;\n",
       "    }\n",
       "\n",
       "    .dataframe thead th {\n",
       "        text-align: right;\n",
       "    }\n",
       "</style>\n",
       "<table border=\"1\" class=\"dataframe\">\n",
       "  <thead>\n",
       "    <tr style=\"text-align: right;\">\n",
       "      <th></th>\n",
       "      <th>feature1</th>\n",
       "      <th>feature2</th>\n",
       "      <th>actual class</th>\n",
       "      <th>predicted class</th>\n",
       "    </tr>\n",
       "  </thead>\n",
       "  <tbody>\n",
       "    <tr>\n",
       "      <th>63</th>\n",
       "      <td>-10.022329</td>\n",
       "      <td>-4.728510</td>\n",
       "      <td>1</td>\n",
       "      <td>1</td>\n",
       "    </tr>\n",
       "    <tr>\n",
       "      <th>1</th>\n",
       "      <td>-9.151552</td>\n",
       "      <td>-4.812864</td>\n",
       "      <td>1</td>\n",
       "      <td>1</td>\n",
       "    </tr>\n",
       "    <tr>\n",
       "      <th>59</th>\n",
       "      <td>-1.146630</td>\n",
       "      <td>4.108397</td>\n",
       "      <td>0</td>\n",
       "      <td>0</td>\n",
       "    </tr>\n",
       "    <tr>\n",
       "      <th>83</th>\n",
       "      <td>-8.093054</td>\n",
       "      <td>-2.842292</td>\n",
       "      <td>1</td>\n",
       "      <td>1</td>\n",
       "    </tr>\n",
       "    <tr>\n",
       "      <th>21</th>\n",
       "      <td>-10.263931</td>\n",
       "      <td>-3.920734</td>\n",
       "      <td>1</td>\n",
       "      <td>1</td>\n",
       "    </tr>\n",
       "    <tr>\n",
       "      <th>39</th>\n",
       "      <td>-10.134157</td>\n",
       "      <td>-4.072403</td>\n",
       "      <td>1</td>\n",
       "      <td>1</td>\n",
       "    </tr>\n",
       "    <tr>\n",
       "      <th>97</th>\n",
       "      <td>-1.373973</td>\n",
       "      <td>5.291631</td>\n",
       "      <td>0</td>\n",
       "      <td>0</td>\n",
       "    </tr>\n",
       "    <tr>\n",
       "      <th>46</th>\n",
       "      <td>-0.757969</td>\n",
       "      <td>4.908984</td>\n",
       "      <td>0</td>\n",
       "      <td>0</td>\n",
       "    </tr>\n",
       "    <tr>\n",
       "      <th>66</th>\n",
       "      <td>-2.413958</td>\n",
       "      <td>5.659358</td>\n",
       "      <td>0</td>\n",
       "      <td>0</td>\n",
       "    </tr>\n",
       "    <tr>\n",
       "      <th>60</th>\n",
       "      <td>-1.472999</td>\n",
       "      <td>4.816542</td>\n",
       "      <td>0</td>\n",
       "      <td>0</td>\n",
       "    </tr>\n",
       "    <tr>\n",
       "      <th>10</th>\n",
       "      <td>-10.036408</td>\n",
       "      <td>-5.569121</td>\n",
       "      <td>1</td>\n",
       "      <td>1</td>\n",
       "    </tr>\n",
       "    <tr>\n",
       "      <th>23</th>\n",
       "      <td>-1.340521</td>\n",
       "      <td>4.157119</td>\n",
       "      <td>0</td>\n",
       "      <td>0</td>\n",
       "    </tr>\n",
       "    <tr>\n",
       "      <th>96</th>\n",
       "      <td>-9.980303</td>\n",
       "      <td>-5.075367</td>\n",
       "      <td>1</td>\n",
       "      <td>1</td>\n",
       "    </tr>\n",
       "    <tr>\n",
       "      <th>9</th>\n",
       "      <td>-1.171042</td>\n",
       "      <td>4.330918</td>\n",
       "      <td>0</td>\n",
       "      <td>0</td>\n",
       "    </tr>\n",
       "    <tr>\n",
       "      <th>81</th>\n",
       "      <td>-11.196981</td>\n",
       "      <td>-3.090003</td>\n",
       "      <td>1</td>\n",
       "      <td>1</td>\n",
       "    </tr>\n",
       "    <tr>\n",
       "      <th>99</th>\n",
       "      <td>0.085252</td>\n",
       "      <td>3.645283</td>\n",
       "      <td>0</td>\n",
       "      <td>0</td>\n",
       "    </tr>\n",
       "    <tr>\n",
       "      <th>62</th>\n",
       "      <td>-9.494528</td>\n",
       "      <td>-2.660123</td>\n",
       "      <td>1</td>\n",
       "      <td>1</td>\n",
       "    </tr>\n",
       "    <tr>\n",
       "      <th>25</th>\n",
       "      <td>-10.307829</td>\n",
       "      <td>-6.388186</td>\n",
       "      <td>1</td>\n",
       "      <td>1</td>\n",
       "    </tr>\n",
       "    <tr>\n",
       "      <th>28</th>\n",
       "      <td>-0.197452</td>\n",
       "      <td>2.346349</td>\n",
       "      <td>0</td>\n",
       "      <td>0</td>\n",
       "    </tr>\n",
       "    <tr>\n",
       "      <th>30</th>\n",
       "      <td>-1.927448</td>\n",
       "      <td>4.936845</td>\n",
       "      <td>0</td>\n",
       "      <td>0</td>\n",
       "    </tr>\n",
       "  </tbody>\n",
       "</table>\n",
       "</div>"
      ],
      "text/plain": [
       "     feature1  feature2  actual class  predicted class\n",
       "63 -10.022329 -4.728510             1                1\n",
       "1   -9.151552 -4.812864             1                1\n",
       "59  -1.146630  4.108397             0                0\n",
       "83  -8.093054 -2.842292             1                1\n",
       "21 -10.263931 -3.920734             1                1\n",
       "39 -10.134157 -4.072403             1                1\n",
       "97  -1.373973  5.291631             0                0\n",
       "46  -0.757969  4.908984             0                0\n",
       "66  -2.413958  5.659358             0                0\n",
       "60  -1.472999  4.816542             0                0\n",
       "10 -10.036408 -5.569121             1                1\n",
       "23  -1.340521  4.157119             0                0\n",
       "96  -9.980303 -5.075367             1                1\n",
       "9   -1.171042  4.330918             0                0\n",
       "81 -11.196981 -3.090003             1                1\n",
       "99   0.085252  3.645283             0                0\n",
       "62  -9.494528 -2.660123             1                1\n",
       "25 -10.307829 -6.388186             1                1\n",
       "28  -0.197452  2.346349             0                0\n",
       "30  -1.927448  4.936845             0                0"
      ]
     },
     "execution_count": 39,
     "metadata": {},
     "output_type": "execute_result"
    }
   ],
   "source": [
    "df_test"
   ]
  },
  {
   "cell_type": "markdown",
   "metadata": {},
   "source": [
    "We can observe that Gaussian Naive Bayes has predicted all classes correctly. Hence it performed extremely well with 100% test accuracy"
   ]
  },
  {
   "cell_type": "markdown",
   "metadata": {},
   "source": [
    "###### Evaluation of model using following metrices :-\n",
    "-------------------------------------------------------\n",
    "Using Confusion Matrix :-\n",
    "\n",
    "[TP => True Positive ; TN => True Negative ; FP => False Positive ; FN => False Negative]\n",
    "\n",
    "1) Accuracy => (TP + TN / (TP + TN + FP + FN))\n",
    "\n",
    "2) Recall => (TP / TP + FN)\n",
    "\n",
    "3) Precision => (TP / TP + FP)\n",
    "\n",
    "4) F1 Score => 2*Recall*Precision/(Recall + Precision)"
   ]
  },
  {
   "cell_type": "code",
   "execution_count": 53,
   "metadata": {},
   "outputs": [
    {
     "name": "stdout",
     "output_type": "stream",
     "text": [
      "True Positives =  10\n",
      "True Negatives =  10\n",
      "False Positives =  0\n",
      "False Negatives =  0\n",
      "Accuracy =  100.0 %\n",
      "Recall =  100.0 %\n",
      "Precision =  100.0 %\n",
      "F1 Score =  100.0 %\n"
     ]
    }
   ],
   "source": [
    "# Calculating True Positives (A(1) -> P(1))\n",
    "TP = []\n",
    "for i,j in zip(df_test['actual class'], df_test['predicted class']):\n",
    "    if i == 1 and j == 1:\n",
    "        TP.append((i,j))\n",
    "nTP = len(TP)\n",
    "print('True Positives = ',nTP)\n",
    "\n",
    "# Calculating True Negatives (A(0) -> P(0))\n",
    "TN = []\n",
    "for i,j in zip(df_test['actual class'], df_test['predicted class']):\n",
    "    if i == 0 and j == 0:\n",
    "        TN.append((i,j))\n",
    "nTN = len(TN)\n",
    "print('True Negatives = ',nTN)\n",
    "\n",
    "# Calculating False Positives (A(0) -> P(1))\n",
    "FP = []\n",
    "for i,j in zip(df_test['actual class'], df_test['predicted class']):\n",
    "    if i == 0 and j == 1:\n",
    "        TN.append((i,j))\n",
    "nFP = len(FP)\n",
    "print('False Positives = ',nFP)\n",
    "\n",
    "# Calculating False Negatives (A(1) -> P(0))\n",
    "FN = []\n",
    "for i,j in zip(df_test['actual class'], df_test['predicted class']):\n",
    "    if i == 1 and j == 0:\n",
    "        FN.append((i,j))\n",
    "nFN = len(FN)\n",
    "print('False Negatives = ',nFN)\n",
    "\n",
    "# Accuracy\n",
    "accuracy = round((nTP + nTN )/ (nTP + nTN + nFP + nFN),2)*100\n",
    "print('Accuracy = ', accuracy,'%')\n",
    "\n",
    "# Recall\n",
    "recall = round((nTP/(nTP +nFN)),2)*100\n",
    "print('Recall = ',recall,'%')\n",
    "\n",
    "# Precision\n",
    "precision = round(nTP/(nTP + nFP),2)*100\n",
    "print('Precision = ',precision,'%')\n",
    "\n",
    "# F1 Score\n",
    "f1 = 2*recall*precision/(recall + precision)\n",
    "print('F1 Score = ',f1,'%')"
   ]
  },
  {
   "cell_type": "code",
   "execution_count": 59,
   "metadata": {},
   "outputs": [
    {
     "data": {
      "text/html": [
       "<div>\n",
       "<style scoped>\n",
       "    .dataframe tbody tr th:only-of-type {\n",
       "        vertical-align: middle;\n",
       "    }\n",
       "\n",
       "    .dataframe tbody tr th {\n",
       "        vertical-align: top;\n",
       "    }\n",
       "\n",
       "    .dataframe thead th {\n",
       "        text-align: right;\n",
       "    }\n",
       "</style>\n",
       "<table border=\"1\" class=\"dataframe\">\n",
       "  <thead>\n",
       "    <tr style=\"text-align: right;\">\n",
       "      <th></th>\n",
       "      <th>Predicted Class 0</th>\n",
       "      <th>Predicted Class 1</th>\n",
       "    </tr>\n",
       "  </thead>\n",
       "  <tbody>\n",
       "    <tr>\n",
       "      <th>Actual Class 0</th>\n",
       "      <td>10</td>\n",
       "      <td>10</td>\n",
       "    </tr>\n",
       "    <tr>\n",
       "      <th>Actual Class 1</th>\n",
       "      <td>0</td>\n",
       "      <td>0</td>\n",
       "    </tr>\n",
       "  </tbody>\n",
       "</table>\n",
       "</div>"
      ],
      "text/plain": [
       "                Predicted Class 0  Predicted Class 1\n",
       "Actual Class 0                 10                 10\n",
       "Actual Class 1                  0                  0"
      ]
     },
     "execution_count": 59,
     "metadata": {},
     "output_type": "execute_result"
    }
   ],
   "source": [
    "# Confusion Matrix\n",
    "conf_mat = pd.DataFrame({'Predicted Class 0' : [nTN,nFN], 'Predicted Class 1' : [nTP,nFP]}, index = ['Actual Class 0','Actual Class 1'])\n",
    "conf_mat"
   ]
  },
  {
   "cell_type": "code",
   "execution_count": null,
   "metadata": {},
   "outputs": [],
   "source": []
  },
  {
   "cell_type": "code",
   "execution_count": null,
   "metadata": {},
   "outputs": [],
   "source": []
  }
 ],
 "metadata": {
  "kernelspec": {
   "display_name": "Python 3",
   "language": "python",
   "name": "python3"
  },
  "language_info": {
   "codemirror_mode": {
    "name": "ipython",
    "version": 3
   },
   "file_extension": ".py",
   "mimetype": "text/x-python",
   "name": "python",
   "nbconvert_exporter": "python",
   "pygments_lexer": "ipython3",
   "version": "3.8.5"
  }
 },
 "nbformat": 4,
 "nbformat_minor": 4
}
